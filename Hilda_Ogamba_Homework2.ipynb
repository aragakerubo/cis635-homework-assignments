{
  "cells": [
    {
      "cell_type": "markdown",
      "metadata": {
        "id": "view-in-github",
        "colab_type": "text"
      },
      "source": [
        "<a href=\"https://colab.research.google.com/github/aragakerubo/cis635-homework-assignments/blob/main/Hilda_Ogamba_Homework2.ipynb\" target=\"_parent\"><img src=\"https://colab.research.google.com/assets/colab-badge.svg\" alt=\"Open In Colab\"/></a>"
      ]
    },
    {
      "cell_type": "markdown",
      "metadata": {
        "id": "x4bMOzyohu44"
      },
      "source": [
        "# Homework 2: Feature Selection\n",
        "\n",
        "## Introduction\n",
        "\n",
        "In this assignment, you will implement the **Incremental Association Markov Blanket (IAMB)** algorithm in Python and explore its impact on feature selection for machine learning models, focusing specifically on the Bayesian Network approach. The IAMB algorithm incrementally selects features that have the strongest association with a target variable, resulting in a subset that approximates the Markov Blanket. This feature selection process is crucial for identifying the most relevant variables and can lead to improved model performance and interpretability.\n",
        "\n",
        "## Objectives\n",
        "\n",
        "This assignment aims to:\n",
        "- Implement a simplified version of the IAMB algorithm based on pseudocode.\n",
        "- Apply IAMB for feature selection on a sample dataset (Pima Indians Diabetes Dataset).\n",
        "- Evaluate and compare model performance with and without IAMB-based feature selection using **Gaussian Naive Bayes**.\n",
        "\n",
        "### Pima Indians Diabetes Dataset\n",
        "The Pima Indian Diabetes Dataset, originally from the National Institute of Diabetes and Digestive and Kidney Diseases, contains information of 768 women from a population near Phoenix, Arizona, USA. The outcome tested was Diabetes, 258 tested positive and 500 tested negative. Therefore, there is one target (dependent) variable and the following attributes (TYNECKI, 2018):\n",
        "\n",
        "- Pregnancies (number of times pregnant),\n",
        "\n",
        "- Oral glucose tolerance test - OGTT (two hour plasma glucose concentration after 75g anhydrous glucose in mg/dl),\n",
        "\n",
        "- Blood Pressure (Diastolic Blood Pressure in mmHg),\n",
        "\n",
        "- Skin Thickness (Triceps skin fold thickness in mm),\n",
        "\n",
        "- Insulin (2 h serum insulin in mu U/ml),\n",
        "\n",
        "- BMI (Body Mass Index in kg/m2),\n",
        "\n",
        "- Age (years),\n",
        "\n",
        "- Pedigree Diabetes Function ('function that represents how likely they are to get the disease by extrapolating from their ancestor's history')\n",
        "\n",
        "### Incremental Association Markov Blanket (IAMB)\n",
        "\n",
        "The Incremental Association Markov Blanket (IAMB) algorithm is a feature selection method used in Bayesian Networks. It identifies a Markov Blanket, which is the minimal set of variables containing all information relevant to the target variable. IAMB operates in two phases:\n",
        "1. **Forward phase**: Incrementally adds variables to the Markov Blanket that have strong associations with the target, given the current Markov Blanket set.\n",
        "2. **Backward phase**: Removes variables that may not contribute significantly to the target variable, ensuring a minimal and relevant set of predictors.\n",
        "\n",
        "### Pseudocode for IAMB\n",
        "\n",
        "```plaintext\n",
        "IAMB Algorithm (simple version)\n",
        "\n",
        "Input: Target variable Y, Dataset D\n",
        "Output: Markov Blanket of Y (MB_Y)\n",
        "\n",
        "1. Initialize MB_Y = {} (empty set)\n",
        "2. Forward phase:\n",
        "    While there exists a variable X not in MB_Y that has a high association with Y given MB_Y:\n",
        "        Add X to MB_Y\n",
        "3. Backward phase:\n",
        "    For each variable X in MB_Y:\n",
        "        If X is independent of Y given (MB_Y - {X}):\n",
        "            Remove X from MB_Y\n",
        "4. Return MB_Y\n",
        "```\n",
        "\n",
        "### Using Pingouin for Partial Correlation\n",
        "\n",
        "In this assignment, you will use the `pingouin` library to calculate partial correlation as the measure of association for the IAMB algorithm. This calculation will help you assess the conditional relationship between features and the target variable. Detailed usage of the `pingouin.partial_corr` API can be found here: [Pingouin Partial Correlation](https://pingouin-stats.org/build/html/generated/pingouin.partial_corr.html#pingouin.partial_corr).\n",
        "\n",
        "## Assignment Instructions\n",
        "\n",
        "1. **Implement the IAMB Algorithm**:\n",
        "   - Write a Python function based on the pseudocode provided to implement IAMB. Your function should iteratively add and remove features from the Markov Blanket of the target variable using partial correlation as the criterion for conditional association.\n",
        "\n",
        "2. **Apply IAMB for Feature Selection**:\n",
        "   - Use the `pima-indians-diabetes.data.csv` dataset. This dataset contains features relevant to predicting diabetes in individuals. After loading the data, apply the IAMB algorithm to select features most relevant to the target variable (`Outcome`).\n",
        "   \n",
        "3. **Evaluate Model Performance**:\n",
        "   - Split the data into 70% training and 30% testing sets.\n",
        "   - Train a **Gaussian Naive Bayes** classifier using:\n",
        "     - **All features** (baseline model).\n",
        "     - **IAMB-selected features** (feature-reduced model).\n",
        "   - Compare the performance of both models on the test set using the following metrics:\n",
        "     - **Accuracy**\n",
        "     - **F1 Score** (weighted)\n",
        "     - **AUC-ROC** (weighted)\n",
        "   - Display your evaluation metrics in a clear table format for comparison.\n",
        "\n",
        "### Resources for Reference\n",
        "- **Gaussian Naive Bayes**: [Scikit-Learn GaussianNB](https://scikit-learn.org/stable/modules/generated/sklearn.naive_bayes.GaussianNB.html)\n",
        "- **Evaluation Metrics**: [Scikit-Learn Metrics Documentation](https://scikit-learn.org/stable/modules/model_evaluation.html)\n",
        "\n",
        "### Expected Output\n",
        "A comparison table showing the performance of the model trained with all features versus the model trained with IAMB-selected features, specifically looking at Accuracy, F1 Score, and AUC-ROC on the test data.\n",
        "\n",
        "\n",
        "### Grading\n",
        "\n",
        "Your assignment will be graded based on the following criteria, totaling 100 points:\n",
        "\n",
        "- **IAMB Algorithm Implementation (30 points)**: Correctly implementing the Incremental Association Markov Blanket (IAMB) algorithm, following the provided pseudocode, and calculating partial correlation accurately.\n",
        "  \n",
        "- **Application on Dataset (20 points)**: Properly applying the IAMB algorithm on the provided dataset, selecting relevant features, and preparing data for model evaluation.\n",
        "\n",
        "- **Performance Evaluation (20 points)**: Training and evaluating a Gaussian Naive Bayes model with all features versus the IAMB-selected features, accurately calculating and reporting metrics (Accuracy, F1 Score, and AUC-ROC).\n",
        "\n",
        "- **Interpretation of Results (15 points)**: Analyzing and discussing the model performance comparison, including the impact of feature selection on model accuracy and efficiency.\n",
        "\n",
        "- **Documentation and Code Quality (15 points)**: Clear, well-organized code with comments and explanations of each section. Proper documentation and presentation of results in a readable format.\n",
        "\n",
        "Each section will be evaluated on accuracy, clarity, and completeness."
      ]
    },
    {
      "cell_type": "markdown",
      "metadata": {
        "id": "7DHTnb6I4XSL"
      },
      "source": [
        "## Import and Setting"
      ]
    },
    {
      "cell_type": "code",
      "execution_count": null,
      "metadata": {
        "id": "P_1O36-nWXxX",
        "outputId": "75b5d8b9-06d4-486b-ee92-2016470485af",
        "colab": {
          "base_uri": "https://localhost:8080/"
        }
      },
      "outputs": [
        {
          "output_type": "stream",
          "name": "stdout",
          "text": [
            "Requirement already satisfied: pingouin in /usr/local/lib/python3.10/dist-packages (0.5.5)\n",
            "Requirement already satisfied: matplotlib in /usr/local/lib/python3.10/dist-packages (from pingouin) (3.8.0)\n",
            "Requirement already satisfied: numpy in /usr/local/lib/python3.10/dist-packages (from pingouin) (1.26.4)\n",
            "Requirement already satisfied: pandas>=1.5 in /usr/local/lib/python3.10/dist-packages (from pingouin) (2.2.2)\n",
            "Requirement already satisfied: pandas-flavor in /usr/local/lib/python3.10/dist-packages (from pingouin) (0.6.0)\n",
            "Requirement already satisfied: scikit-learn>=1.2 in /usr/local/lib/python3.10/dist-packages (from pingouin) (1.5.2)\n",
            "Requirement already satisfied: scipy in /usr/local/lib/python3.10/dist-packages (from pingouin) (1.13.1)\n",
            "Requirement already satisfied: seaborn in /usr/local/lib/python3.10/dist-packages (from pingouin) (0.13.2)\n",
            "Requirement already satisfied: statsmodels in /usr/local/lib/python3.10/dist-packages (from pingouin) (0.14.4)\n",
            "Requirement already satisfied: tabulate in /usr/local/lib/python3.10/dist-packages (from pingouin) (0.9.0)\n",
            "Requirement already satisfied: python-dateutil>=2.8.2 in /usr/local/lib/python3.10/dist-packages (from pandas>=1.5->pingouin) (2.8.2)\n",
            "Requirement already satisfied: pytz>=2020.1 in /usr/local/lib/python3.10/dist-packages (from pandas>=1.5->pingouin) (2024.2)\n",
            "Requirement already satisfied: tzdata>=2022.7 in /usr/local/lib/python3.10/dist-packages (from pandas>=1.5->pingouin) (2024.2)\n",
            "Requirement already satisfied: joblib>=1.2.0 in /usr/local/lib/python3.10/dist-packages (from scikit-learn>=1.2->pingouin) (1.4.2)\n",
            "Requirement already satisfied: threadpoolctl>=3.1.0 in /usr/local/lib/python3.10/dist-packages (from scikit-learn>=1.2->pingouin) (3.5.0)\n",
            "Requirement already satisfied: contourpy>=1.0.1 in /usr/local/lib/python3.10/dist-packages (from matplotlib->pingouin) (1.3.0)\n",
            "Requirement already satisfied: cycler>=0.10 in /usr/local/lib/python3.10/dist-packages (from matplotlib->pingouin) (0.12.1)\n",
            "Requirement already satisfied: fonttools>=4.22.0 in /usr/local/lib/python3.10/dist-packages (from matplotlib->pingouin) (4.54.1)\n",
            "Requirement already satisfied: kiwisolver>=1.0.1 in /usr/local/lib/python3.10/dist-packages (from matplotlib->pingouin) (1.4.7)\n",
            "Requirement already satisfied: packaging>=20.0 in /usr/local/lib/python3.10/dist-packages (from matplotlib->pingouin) (24.1)\n",
            "Requirement already satisfied: pillow>=6.2.0 in /usr/local/lib/python3.10/dist-packages (from matplotlib->pingouin) (10.4.0)\n",
            "Requirement already satisfied: pyparsing>=2.3.1 in /usr/local/lib/python3.10/dist-packages (from matplotlib->pingouin) (3.2.0)\n",
            "Requirement already satisfied: xarray in /usr/local/lib/python3.10/dist-packages (from pandas-flavor->pingouin) (2024.10.0)\n",
            "Requirement already satisfied: patsy>=0.5.6 in /usr/local/lib/python3.10/dist-packages (from statsmodels->pingouin) (0.5.6)\n",
            "Requirement already satisfied: six in /usr/local/lib/python3.10/dist-packages (from patsy>=0.5.6->statsmodels->pingouin) (1.16.0)\n"
          ]
        }
      ],
      "source": [
        "!pip install pingouin"
      ]
    },
    {
      "cell_type": "code",
      "execution_count": null,
      "metadata": {
        "id": "UqRZjpX8lfM_"
      },
      "outputs": [],
      "source": [
        "import pandas as pd\n",
        "import numpy as np\n",
        "import pingouin as pg\n",
        "from sklearn.model_selection import train_test_split\n",
        "from sklearn.metrics import accuracy_score, f1_score, roc_auc_score, roc_curve\n",
        "from sklearn.naive_bayes import GaussianNB\n",
        "%matplotlib inline\n",
        "from matplotlib.pylab import rcParams\n",
        "import matplotlib.pyplot as plt"
      ]
    },
    {
      "cell_type": "code",
      "execution_count": null,
      "metadata": {
        "id": "HnirVvtODmnI"
      },
      "outputs": [],
      "source": [
        "# Set the default figure size for matplotlib plots to 15 inches wide by 6 inches tall\n",
        "rcParams[\"figure.figsize\"] = (15, 6)\n",
        "\n",
        "# Increase the default font size of the titles in matplotlib plots to extra-extra-large\n",
        "rcParams[\"axes.titlesize\"] = \"xx-large\"\n",
        "\n",
        "# Make the titles of axes in matplotlib plots bold for better visibility\n",
        "rcParams[\"axes.titleweight\"] = \"bold\"\n",
        "\n",
        "# Set the default location of the legend in matplotlib plots to the upper left corner\n",
        "rcParams[\"legend.loc\"] = \"upper left\"\n",
        "\n",
        "# Configure pandas to display all columns of a DataFrame when printed to the console\n",
        "pd.set_option('display.max_columns', None)\n",
        "\n",
        "# Configure pandas to display all rows of a DataFrame when printed to the console\n",
        "pd.set_option('display.max_rows', None)"
      ]
    },
    {
      "cell_type": "markdown",
      "metadata": {
        "id": "rks8WCIQuuKg"
      },
      "source": [
        "### Data Loading\n",
        "Load the Pima Indians Diabetes dataset as a data frame `data`"
      ]
    },
    {
      "cell_type": "code",
      "execution_count": null,
      "metadata": {
        "colab": {
          "base_uri": "https://localhost:8080/",
          "height": 223
        },
        "id": "DqfOaIXkdEUD",
        "outputId": "1a05b569-b6dd-45f2-df95-5d1f1018a13b"
      },
      "outputs": [
        {
          "output_type": "display_data",
          "data": {
            "text/plain": [
              "(768, 9)"
            ]
          },
          "metadata": {}
        },
        {
          "output_type": "execute_result",
          "data": {
            "text/plain": [
              "   Pregnancies  Glucose  BloodPressure  SkinThickness  Insulin   BMI  \\\n",
              "0            6      148             72             35        0  33.6   \n",
              "1            1       85             66             29        0  26.6   \n",
              "2            8      183             64              0        0  23.3   \n",
              "3            1       89             66             23       94  28.1   \n",
              "4            0      137             40             35      168  43.1   \n",
              "\n",
              "   DiabetesPedigreeFunction  Age  Outcome  \n",
              "0                     0.627   50        1  \n",
              "1                     0.351   31        0  \n",
              "2                     0.672   32        1  \n",
              "3                     0.167   21        0  \n",
              "4                     2.288   33        1  "
            ],
            "text/html": [
              "\n",
              "  <div id=\"df-64bf2456-2d9a-40e7-bc2b-b82d3adbd56b\" class=\"colab-df-container\">\n",
              "    <div>\n",
              "<style scoped>\n",
              "    .dataframe tbody tr th:only-of-type {\n",
              "        vertical-align: middle;\n",
              "    }\n",
              "\n",
              "    .dataframe tbody tr th {\n",
              "        vertical-align: top;\n",
              "    }\n",
              "\n",
              "    .dataframe thead th {\n",
              "        text-align: right;\n",
              "    }\n",
              "</style>\n",
              "<table border=\"1\" class=\"dataframe\">\n",
              "  <thead>\n",
              "    <tr style=\"text-align: right;\">\n",
              "      <th></th>\n",
              "      <th>Pregnancies</th>\n",
              "      <th>Glucose</th>\n",
              "      <th>BloodPressure</th>\n",
              "      <th>SkinThickness</th>\n",
              "      <th>Insulin</th>\n",
              "      <th>BMI</th>\n",
              "      <th>DiabetesPedigreeFunction</th>\n",
              "      <th>Age</th>\n",
              "      <th>Outcome</th>\n",
              "    </tr>\n",
              "  </thead>\n",
              "  <tbody>\n",
              "    <tr>\n",
              "      <th>0</th>\n",
              "      <td>6</td>\n",
              "      <td>148</td>\n",
              "      <td>72</td>\n",
              "      <td>35</td>\n",
              "      <td>0</td>\n",
              "      <td>33.6</td>\n",
              "      <td>0.627</td>\n",
              "      <td>50</td>\n",
              "      <td>1</td>\n",
              "    </tr>\n",
              "    <tr>\n",
              "      <th>1</th>\n",
              "      <td>1</td>\n",
              "      <td>85</td>\n",
              "      <td>66</td>\n",
              "      <td>29</td>\n",
              "      <td>0</td>\n",
              "      <td>26.6</td>\n",
              "      <td>0.351</td>\n",
              "      <td>31</td>\n",
              "      <td>0</td>\n",
              "    </tr>\n",
              "    <tr>\n",
              "      <th>2</th>\n",
              "      <td>8</td>\n",
              "      <td>183</td>\n",
              "      <td>64</td>\n",
              "      <td>0</td>\n",
              "      <td>0</td>\n",
              "      <td>23.3</td>\n",
              "      <td>0.672</td>\n",
              "      <td>32</td>\n",
              "      <td>1</td>\n",
              "    </tr>\n",
              "    <tr>\n",
              "      <th>3</th>\n",
              "      <td>1</td>\n",
              "      <td>89</td>\n",
              "      <td>66</td>\n",
              "      <td>23</td>\n",
              "      <td>94</td>\n",
              "      <td>28.1</td>\n",
              "      <td>0.167</td>\n",
              "      <td>21</td>\n",
              "      <td>0</td>\n",
              "    </tr>\n",
              "    <tr>\n",
              "      <th>4</th>\n",
              "      <td>0</td>\n",
              "      <td>137</td>\n",
              "      <td>40</td>\n",
              "      <td>35</td>\n",
              "      <td>168</td>\n",
              "      <td>43.1</td>\n",
              "      <td>2.288</td>\n",
              "      <td>33</td>\n",
              "      <td>1</td>\n",
              "    </tr>\n",
              "  </tbody>\n",
              "</table>\n",
              "</div>\n",
              "    <div class=\"colab-df-buttons\">\n",
              "\n",
              "  <div class=\"colab-df-container\">\n",
              "    <button class=\"colab-df-convert\" onclick=\"convertToInteractive('df-64bf2456-2d9a-40e7-bc2b-b82d3adbd56b')\"\n",
              "            title=\"Convert this dataframe to an interactive table.\"\n",
              "            style=\"display:none;\">\n",
              "\n",
              "  <svg xmlns=\"http://www.w3.org/2000/svg\" height=\"24px\" viewBox=\"0 -960 960 960\">\n",
              "    <path d=\"M120-120v-720h720v720H120Zm60-500h600v-160H180v160Zm220 220h160v-160H400v160Zm0 220h160v-160H400v160ZM180-400h160v-160H180v160Zm440 0h160v-160H620v160ZM180-180h160v-160H180v160Zm440 0h160v-160H620v160Z\"/>\n",
              "  </svg>\n",
              "    </button>\n",
              "\n",
              "  <style>\n",
              "    .colab-df-container {\n",
              "      display:flex;\n",
              "      gap: 12px;\n",
              "    }\n",
              "\n",
              "    .colab-df-convert {\n",
              "      background-color: #E8F0FE;\n",
              "      border: none;\n",
              "      border-radius: 50%;\n",
              "      cursor: pointer;\n",
              "      display: none;\n",
              "      fill: #1967D2;\n",
              "      height: 32px;\n",
              "      padding: 0 0 0 0;\n",
              "      width: 32px;\n",
              "    }\n",
              "\n",
              "    .colab-df-convert:hover {\n",
              "      background-color: #E2EBFA;\n",
              "      box-shadow: 0px 1px 2px rgba(60, 64, 67, 0.3), 0px 1px 3px 1px rgba(60, 64, 67, 0.15);\n",
              "      fill: #174EA6;\n",
              "    }\n",
              "\n",
              "    .colab-df-buttons div {\n",
              "      margin-bottom: 4px;\n",
              "    }\n",
              "\n",
              "    [theme=dark] .colab-df-convert {\n",
              "      background-color: #3B4455;\n",
              "      fill: #D2E3FC;\n",
              "    }\n",
              "\n",
              "    [theme=dark] .colab-df-convert:hover {\n",
              "      background-color: #434B5C;\n",
              "      box-shadow: 0px 1px 3px 1px rgba(0, 0, 0, 0.15);\n",
              "      filter: drop-shadow(0px 1px 2px rgba(0, 0, 0, 0.3));\n",
              "      fill: #FFFFFF;\n",
              "    }\n",
              "  </style>\n",
              "\n",
              "    <script>\n",
              "      const buttonEl =\n",
              "        document.querySelector('#df-64bf2456-2d9a-40e7-bc2b-b82d3adbd56b button.colab-df-convert');\n",
              "      buttonEl.style.display =\n",
              "        google.colab.kernel.accessAllowed ? 'block' : 'none';\n",
              "\n",
              "      async function convertToInteractive(key) {\n",
              "        const element = document.querySelector('#df-64bf2456-2d9a-40e7-bc2b-b82d3adbd56b');\n",
              "        const dataTable =\n",
              "          await google.colab.kernel.invokeFunction('convertToInteractive',\n",
              "                                                    [key], {});\n",
              "        if (!dataTable) return;\n",
              "\n",
              "        const docLinkHtml = 'Like what you see? Visit the ' +\n",
              "          '<a target=\"_blank\" href=https://colab.research.google.com/notebooks/data_table.ipynb>data table notebook</a>'\n",
              "          + ' to learn more about interactive tables.';\n",
              "        element.innerHTML = '';\n",
              "        dataTable['output_type'] = 'display_data';\n",
              "        await google.colab.output.renderOutput(dataTable, element);\n",
              "        const docLink = document.createElement('div');\n",
              "        docLink.innerHTML = docLinkHtml;\n",
              "        element.appendChild(docLink);\n",
              "      }\n",
              "    </script>\n",
              "  </div>\n",
              "\n",
              "\n",
              "<div id=\"df-7fc8da3b-258f-4189-afdc-4c67ceb560aa\">\n",
              "  <button class=\"colab-df-quickchart\" onclick=\"quickchart('df-7fc8da3b-258f-4189-afdc-4c67ceb560aa')\"\n",
              "            title=\"Suggest charts\"\n",
              "            style=\"display:none;\">\n",
              "\n",
              "<svg xmlns=\"http://www.w3.org/2000/svg\" height=\"24px\"viewBox=\"0 0 24 24\"\n",
              "     width=\"24px\">\n",
              "    <g>\n",
              "        <path d=\"M19 3H5c-1.1 0-2 .9-2 2v14c0 1.1.9 2 2 2h14c1.1 0 2-.9 2-2V5c0-1.1-.9-2-2-2zM9 17H7v-7h2v7zm4 0h-2V7h2v10zm4 0h-2v-4h2v4z\"/>\n",
              "    </g>\n",
              "</svg>\n",
              "  </button>\n",
              "\n",
              "<style>\n",
              "  .colab-df-quickchart {\n",
              "      --bg-color: #E8F0FE;\n",
              "      --fill-color: #1967D2;\n",
              "      --hover-bg-color: #E2EBFA;\n",
              "      --hover-fill-color: #174EA6;\n",
              "      --disabled-fill-color: #AAA;\n",
              "      --disabled-bg-color: #DDD;\n",
              "  }\n",
              "\n",
              "  [theme=dark] .colab-df-quickchart {\n",
              "      --bg-color: #3B4455;\n",
              "      --fill-color: #D2E3FC;\n",
              "      --hover-bg-color: #434B5C;\n",
              "      --hover-fill-color: #FFFFFF;\n",
              "      --disabled-bg-color: #3B4455;\n",
              "      --disabled-fill-color: #666;\n",
              "  }\n",
              "\n",
              "  .colab-df-quickchart {\n",
              "    background-color: var(--bg-color);\n",
              "    border: none;\n",
              "    border-radius: 50%;\n",
              "    cursor: pointer;\n",
              "    display: none;\n",
              "    fill: var(--fill-color);\n",
              "    height: 32px;\n",
              "    padding: 0;\n",
              "    width: 32px;\n",
              "  }\n",
              "\n",
              "  .colab-df-quickchart:hover {\n",
              "    background-color: var(--hover-bg-color);\n",
              "    box-shadow: 0 1px 2px rgba(60, 64, 67, 0.3), 0 1px 3px 1px rgba(60, 64, 67, 0.15);\n",
              "    fill: var(--button-hover-fill-color);\n",
              "  }\n",
              "\n",
              "  .colab-df-quickchart-complete:disabled,\n",
              "  .colab-df-quickchart-complete:disabled:hover {\n",
              "    background-color: var(--disabled-bg-color);\n",
              "    fill: var(--disabled-fill-color);\n",
              "    box-shadow: none;\n",
              "  }\n",
              "\n",
              "  .colab-df-spinner {\n",
              "    border: 2px solid var(--fill-color);\n",
              "    border-color: transparent;\n",
              "    border-bottom-color: var(--fill-color);\n",
              "    animation:\n",
              "      spin 1s steps(1) infinite;\n",
              "  }\n",
              "\n",
              "  @keyframes spin {\n",
              "    0% {\n",
              "      border-color: transparent;\n",
              "      border-bottom-color: var(--fill-color);\n",
              "      border-left-color: var(--fill-color);\n",
              "    }\n",
              "    20% {\n",
              "      border-color: transparent;\n",
              "      border-left-color: var(--fill-color);\n",
              "      border-top-color: var(--fill-color);\n",
              "    }\n",
              "    30% {\n",
              "      border-color: transparent;\n",
              "      border-left-color: var(--fill-color);\n",
              "      border-top-color: var(--fill-color);\n",
              "      border-right-color: var(--fill-color);\n",
              "    }\n",
              "    40% {\n",
              "      border-color: transparent;\n",
              "      border-right-color: var(--fill-color);\n",
              "      border-top-color: var(--fill-color);\n",
              "    }\n",
              "    60% {\n",
              "      border-color: transparent;\n",
              "      border-right-color: var(--fill-color);\n",
              "    }\n",
              "    80% {\n",
              "      border-color: transparent;\n",
              "      border-right-color: var(--fill-color);\n",
              "      border-bottom-color: var(--fill-color);\n",
              "    }\n",
              "    90% {\n",
              "      border-color: transparent;\n",
              "      border-bottom-color: var(--fill-color);\n",
              "    }\n",
              "  }\n",
              "</style>\n",
              "\n",
              "  <script>\n",
              "    async function quickchart(key) {\n",
              "      const quickchartButtonEl =\n",
              "        document.querySelector('#' + key + ' button');\n",
              "      quickchartButtonEl.disabled = true;  // To prevent multiple clicks.\n",
              "      quickchartButtonEl.classList.add('colab-df-spinner');\n",
              "      try {\n",
              "        const charts = await google.colab.kernel.invokeFunction(\n",
              "            'suggestCharts', [key], {});\n",
              "      } catch (error) {\n",
              "        console.error('Error during call to suggestCharts:', error);\n",
              "      }\n",
              "      quickchartButtonEl.classList.remove('colab-df-spinner');\n",
              "      quickchartButtonEl.classList.add('colab-df-quickchart-complete');\n",
              "    }\n",
              "    (() => {\n",
              "      let quickchartButtonEl =\n",
              "        document.querySelector('#df-7fc8da3b-258f-4189-afdc-4c67ceb560aa button');\n",
              "      quickchartButtonEl.style.display =\n",
              "        google.colab.kernel.accessAllowed ? 'block' : 'none';\n",
              "    })();\n",
              "  </script>\n",
              "</div>\n",
              "\n",
              "    </div>\n",
              "  </div>\n"
            ],
            "application/vnd.google.colaboratory.intrinsic+json": {
              "type": "dataframe",
              "variable_name": "data",
              "summary": "{\n  \"name\": \"data\",\n  \"rows\": 768,\n  \"fields\": [\n    {\n      \"column\": \"Pregnancies\",\n      \"properties\": {\n        \"dtype\": \"number\",\n        \"std\": 3,\n        \"min\": 0,\n        \"max\": 17,\n        \"num_unique_values\": 17,\n        \"samples\": [\n          6,\n          1,\n          3\n        ],\n        \"semantic_type\": \"\",\n        \"description\": \"\"\n      }\n    },\n    {\n      \"column\": \"Glucose\",\n      \"properties\": {\n        \"dtype\": \"number\",\n        \"std\": 31,\n        \"min\": 0,\n        \"max\": 199,\n        \"num_unique_values\": 136,\n        \"samples\": [\n          151,\n          101,\n          112\n        ],\n        \"semantic_type\": \"\",\n        \"description\": \"\"\n      }\n    },\n    {\n      \"column\": \"BloodPressure\",\n      \"properties\": {\n        \"dtype\": \"number\",\n        \"std\": 19,\n        \"min\": 0,\n        \"max\": 122,\n        \"num_unique_values\": 47,\n        \"samples\": [\n          86,\n          46,\n          85\n        ],\n        \"semantic_type\": \"\",\n        \"description\": \"\"\n      }\n    },\n    {\n      \"column\": \"SkinThickness\",\n      \"properties\": {\n        \"dtype\": \"number\",\n        \"std\": 15,\n        \"min\": 0,\n        \"max\": 99,\n        \"num_unique_values\": 51,\n        \"samples\": [\n          7,\n          12,\n          48\n        ],\n        \"semantic_type\": \"\",\n        \"description\": \"\"\n      }\n    },\n    {\n      \"column\": \"Insulin\",\n      \"properties\": {\n        \"dtype\": \"number\",\n        \"std\": 115,\n        \"min\": 0,\n        \"max\": 846,\n        \"num_unique_values\": 186,\n        \"samples\": [\n          52,\n          41,\n          183\n        ],\n        \"semantic_type\": \"\",\n        \"description\": \"\"\n      }\n    },\n    {\n      \"column\": \"BMI\",\n      \"properties\": {\n        \"dtype\": \"number\",\n        \"std\": 7.8841603203754405,\n        \"min\": 0.0,\n        \"max\": 67.1,\n        \"num_unique_values\": 248,\n        \"samples\": [\n          19.9,\n          31.0,\n          38.1\n        ],\n        \"semantic_type\": \"\",\n        \"description\": \"\"\n      }\n    },\n    {\n      \"column\": \"DiabetesPedigreeFunction\",\n      \"properties\": {\n        \"dtype\": \"number\",\n        \"std\": 0.33132859501277484,\n        \"min\": 0.078,\n        \"max\": 2.42,\n        \"num_unique_values\": 517,\n        \"samples\": [\n          1.731,\n          0.426,\n          0.138\n        ],\n        \"semantic_type\": \"\",\n        \"description\": \"\"\n      }\n    },\n    {\n      \"column\": \"Age\",\n      \"properties\": {\n        \"dtype\": \"number\",\n        \"std\": 11,\n        \"min\": 21,\n        \"max\": 81,\n        \"num_unique_values\": 52,\n        \"samples\": [\n          60,\n          47,\n          72\n        ],\n        \"semantic_type\": \"\",\n        \"description\": \"\"\n      }\n    },\n    {\n      \"column\": \"Outcome\",\n      \"properties\": {\n        \"dtype\": \"number\",\n        \"std\": 0,\n        \"min\": 0,\n        \"max\": 1,\n        \"num_unique_values\": 2,\n        \"samples\": [\n          0,\n          1\n        ],\n        \"semantic_type\": \"\",\n        \"description\": \"\"\n      }\n    }\n  ]\n}"
            }
          },
          "metadata": {},
          "execution_count": 28
        }
      ],
      "source": [
        "import pandas as pd\n",
        "import numpy as np\n",
        "\n",
        "url = 'https://raw.githubusercontent.com/jbrownlee/Datasets/master/pima-indians-diabetes.data.csv'\n",
        "\n",
        "# Column names for the dataset\n",
        "column_names = ['Pregnancies', 'Glucose', 'BloodPressure', 'SkinThickness', 'Insulin', 'BMI', 'DiabetesPedigreeFunction', 'Age', 'Outcome']\n",
        "data = pd.read_csv(url,names=column_names)\n",
        "display(data.shape)\n",
        "data.head()\n"
      ]
    },
    {
      "cell_type": "markdown",
      "metadata": {
        "id": "bAs01Tt_-yjR"
      },
      "source": [
        "### Implement the IAMB Algorithm\n",
        "\n",
        "The IAMB algorithm identifies a Markov Blanket for the target variable, which consists of the minimal set of features that contain all relevant information about the target variable. The algorithm works in two phases:\n",
        "\n",
        "1. **Forward Phase**: Incrementally adds features highly correlated with the target variable.\n",
        "2. **Backward Phase**: Removes features that don’t contribute significantly to the target, leaving only the most relevant features."
      ]
    },
    {
      "cell_type": "code",
      "execution_count": null,
      "metadata": {
        "id": "N6IyVS9CAi7F"
      },
      "outputs": [],
      "source": [
        "# IAMB implementation with partial correlation\n",
        "def iamb(target, dataset, alpha=0.05) -> list:\n",
        "    \"\"\"\n",
        "    This function implements the IAMB algorithm to find the Markov Blanket of a target variable Y in a dataset D.\n",
        "\n",
        "    Parameters:\n",
        "        target (str): The name of the target variable Y.\n",
        "        dataset (pd.DataFrame): The dataset D containing the target variable Y and other variables.\n",
        "        alpha (float): The significance level for testing the independence between variables.\n",
        "\n",
        "    Returns:\n",
        "        mb_y (list): The Markov Blanket of the target variable Y.\n",
        "    \"\"\"\n",
        "    # Initialize MB_Y as an empty set, which will store the variables in the Markov Blanket\n",
        "    mb_y = set()\n",
        "\n",
        "    # Forward phase: Identify variables to add to MB_Y based on their association with the target\n",
        "    for column in dataset.columns:\n",
        "        # Skip the target variable itself\n",
        "        if column != target:\n",
        "            # Check the association of the current column with the target given the current MB_Y\n",
        "            # Using partial correlation to condition on the variables already in MB_Y\n",
        "            corr = pg.partial_corr(\n",
        "                data=dataset,\n",
        "                x=column,\n",
        "                y=target,\n",
        "                covar=list(mb_y),  # List of variables in the current MB_Y as covariates\n",
        "                method=\"pearson\",  # Using Pearson correlation for association measure\n",
        "            )[\"p-val\"].values[0]  # Extract the p-value for the correlation\n",
        "\n",
        "            # If the association (p-value) is statistically significant (below the threshold alpha)\n",
        "            if corr < alpha:\n",
        "                # Add the variable to MB_Y\n",
        "                mb_y.add(column)\n",
        "\n",
        "    # Backward phase: Refine MB_Y by removing variables that are not necessary\n",
        "    for column in mb_y.copy():  # Iterate over a copy of MB_Y to allow safe modification\n",
        "        # Check if the current column is conditionally independent of the target\n",
        "        # given the rest of MB_Y (i.e., MB_Y without this column)\n",
        "        columns_without_x = mb_y - {column}  # Subtract the current column from MB_Y\n",
        "        corr = pg.partial_corr(\n",
        "            data=dataset,\n",
        "            x=column,\n",
        "            y=target,\n",
        "            covar=list(columns_without_x),  # Use the remaining variables in MB_Y as covariates\n",
        "            method=\"pearson\",\n",
        "        )[\"p-val\"].values[0]  # Extract the p-value for the partial correlation\n",
        "\n",
        "        # If the variable is conditionally independent of the target (p-value >= alpha)\n",
        "        if corr >= alpha:\n",
        "            # Remove the variable from MB_Y as it is not needed in the Markov Blanket\n",
        "            mb_y.remove(column)\n",
        "\n",
        "    # Return the Markov Blanket as a list of variable names\n",
        "    return list(mb_y)"
      ]
    },
    {
      "cell_type": "markdown",
      "metadata": {
        "id": "8D7qFXlZ-yjS"
      },
      "source": [
        "### Apply IAMB for Feature Selection\n",
        "\n",
        "Using the `iamb` function, we identify the most relevant features for predicting diabetes.\n",
        "\n",
        "- The `target_variable` is `Outcome`, our dependent variable.\n",
        "- The `selected_features` list contains features retained after applying the IAMB algorithm."
      ]
    },
    {
      "cell_type": "code",
      "execution_count": null,
      "metadata": {
        "id": "BOyVzbWPBzD9",
        "outputId": "0d222255-a6af-48ea-cd02-179690918e5b",
        "colab": {
          "base_uri": "https://localhost:8080/"
        }
      },
      "outputs": [
        {
          "output_type": "stream",
          "name": "stdout",
          "text": [
            "\n",
            "Selected Features: ['BMI', 'DiabetesPedigreeFunction', 'Pregnancies', 'Glucose']\n"
          ]
        }
      ],
      "source": [
        "# Apply IAMB for Feature Selection\n",
        "target_variable = \"Outcome\"\n",
        "selected_features = iamb(target_variable, data)\n",
        "print(\"\\nSelected Features:\", selected_features)"
      ]
    },
    {
      "cell_type": "markdown",
      "metadata": {
        "id": "gEZZtuIS-yjS"
      },
      "source": [
        "### Evaluate Model Performance\n",
        "\n",
        "We now evaluate model performance with two versions of our feature set: all features (baseline) and only the IAMB-selected features."
      ]
    },
    {
      "cell_type": "markdown",
      "metadata": {
        "id": "IkWq9KAG-yjT"
      },
      "source": [
        "#### 1\\. Split the Data"
      ]
    },
    {
      "cell_type": "code",
      "execution_count": null,
      "metadata": {
        "id": "LK6ThLj9-yjT"
      },
      "outputs": [],
      "source": [
        "X = data.drop(columns=[target_variable])\n",
        "y = data[target_variable]\n",
        "X_train, X_test, y_train, y_test = train_test_split(X, y, test_size=0.3, random_state=42)"
      ]
    },
    {
      "cell_type": "markdown",
      "metadata": {
        "id": "4xBnnz51-yjT"
      },
      "source": [
        "- `X` contains all features except `Outcome`, while `y` contains only the `Outcome` column.\n",
        "- We use `train_test_split` to divide the data into training and testing sets with a 70-30 split."
      ]
    },
    {
      "cell_type": "markdown",
      "metadata": {
        "id": "gsdJiyKy-yjT"
      },
      "source": [
        "#### 2\\. Train the Gaussian Naive Bayes Model"
      ]
    },
    {
      "cell_type": "markdown",
      "metadata": {
        "id": "7CQAwk5s-yjT"
      },
      "source": [
        "**A\\. Baseline Model (All Features)**"
      ]
    },
    {
      "cell_type": "code",
      "execution_count": null,
      "metadata": {
        "id": "hkW-LRQ_-yjU"
      },
      "outputs": [],
      "source": [
        "# Train Gaussian Naive Bayes using all features\n",
        "gnb_all = GaussianNB()\n",
        "gnb_all.fit(X_train, y_train)\n",
        "y_pred_all = gnb_all.predict(X_test)"
      ]
    },
    {
      "cell_type": "markdown",
      "metadata": {
        "id": "GmSxW9JQ-yjU"
      },
      "source": [
        "- `GaussianNB`: A Naive Bayes classifier optimized for continuous features. Here, it is trained on all available features (`X_train`)."
      ]
    },
    {
      "cell_type": "markdown",
      "metadata": {
        "id": "e8u4B_rF-yjU"
      },
      "source": [
        "**B\\. Feature-Reduced Model (IAMB-Selected Features)**"
      ]
    },
    {
      "cell_type": "code",
      "execution_count": null,
      "metadata": {
        "id": "YL2VI9CW-yjU"
      },
      "outputs": [],
      "source": [
        "# Train Gaussian Naive Bayes using IAMB-selected features\n",
        "X_train_iamb = X_train[selected_features]\n",
        "X_test_iamb = X_test[selected_features]\n",
        "\n",
        "gnb_iamb = GaussianNB()\n",
        "gnb_iamb.fit(X_train_iamb, y_train)\n",
        "y_pred_iamb = gnb_iamb.predict(X_test_iamb)"
      ]
    },
    {
      "cell_type": "markdown",
      "metadata": {
        "id": "4f-Dp-KQ-yjU"
      },
      "source": [
        "- We train the same `GaussianNB` model on the subset of features selected by IAMB (`X_train_iamb`)."
      ]
    },
    {
      "cell_type": "markdown",
      "metadata": {
        "id": "08bPkaa--yjU"
      },
      "source": [
        "#### 3\\. Compute Evaluation Metrics\n",
        "\n",
        "For both models, we calculate the Accuracy, F1 Score, and AUC-ROC on the test data."
      ]
    },
    {
      "cell_type": "code",
      "execution_count": null,
      "metadata": {
        "id": "XskspGV0-yjU"
      },
      "outputs": [],
      "source": [
        "# Evaluate metrics for the model using all features\n",
        "acc_all = accuracy_score(y_test, y_pred_all)\n",
        "f1_all = f1_score(y_test, y_pred_all, average='weighted')\n",
        "auc_all = roc_auc_score(y_test, gnb_all.predict_proba(X_test)[:, 1])\n",
        "\n",
        "# Evaluate metrics for the model using IAMB-selected features\n",
        "acc_iamb = accuracy_score(y_test, y_pred_iamb)\n",
        "f1_iamb = f1_score(y_test, y_pred_iamb, average='weighted')\n",
        "auc_iamb = roc_auc_score(y_test, gnb_iamb.predict_proba(X_test_iamb)[:, 1])"
      ]
    },
    {
      "cell_type": "markdown",
      "metadata": {
        "id": "J_VuxG16-yjV"
      },
      "source": [
        "The comparison between models trained on all features versus those trained on IAMB-selected features can demonstrate if feature selection improves efficiency and performance."
      ]
    },
    {
      "cell_type": "code",
      "execution_count": null,
      "metadata": {
        "id": "0OQlAxfn-yjV",
        "outputId": "dcdbae6d-6d3c-4c17-b9ee-f9306267153b",
        "colab": {
          "base_uri": "https://localhost:8080/",
          "height": 160
        }
      },
      "outputs": [
        {
          "output_type": "stream",
          "name": "stdout",
          "text": [
            "\n",
            "Model Performance Comparison:\n"
          ]
        },
        {
          "output_type": "display_data",
          "data": {
            "text/plain": [
              "                    Model  Accuracy  F1 Score   AUC-ROC\n",
              "0            All Features  0.744589  0.746309  0.790480\n",
              "1  IAMB-selected Features  0.770563  0.769499  0.828063"
            ],
            "text/html": [
              "\n",
              "  <div id=\"df-c50a412d-9bcf-4d75-88a9-22f99862e1f4\" class=\"colab-df-container\">\n",
              "    <div>\n",
              "<style scoped>\n",
              "    .dataframe tbody tr th:only-of-type {\n",
              "        vertical-align: middle;\n",
              "    }\n",
              "\n",
              "    .dataframe tbody tr th {\n",
              "        vertical-align: top;\n",
              "    }\n",
              "\n",
              "    .dataframe thead th {\n",
              "        text-align: right;\n",
              "    }\n",
              "</style>\n",
              "<table border=\"1\" class=\"dataframe\">\n",
              "  <thead>\n",
              "    <tr style=\"text-align: right;\">\n",
              "      <th></th>\n",
              "      <th>Model</th>\n",
              "      <th>Accuracy</th>\n",
              "      <th>F1 Score</th>\n",
              "      <th>AUC-ROC</th>\n",
              "    </tr>\n",
              "  </thead>\n",
              "  <tbody>\n",
              "    <tr>\n",
              "      <th>0</th>\n",
              "      <td>All Features</td>\n",
              "      <td>0.744589</td>\n",
              "      <td>0.746309</td>\n",
              "      <td>0.790480</td>\n",
              "    </tr>\n",
              "    <tr>\n",
              "      <th>1</th>\n",
              "      <td>IAMB-selected Features</td>\n",
              "      <td>0.770563</td>\n",
              "      <td>0.769499</td>\n",
              "      <td>0.828063</td>\n",
              "    </tr>\n",
              "  </tbody>\n",
              "</table>\n",
              "</div>\n",
              "    <div class=\"colab-df-buttons\">\n",
              "\n",
              "  <div class=\"colab-df-container\">\n",
              "    <button class=\"colab-df-convert\" onclick=\"convertToInteractive('df-c50a412d-9bcf-4d75-88a9-22f99862e1f4')\"\n",
              "            title=\"Convert this dataframe to an interactive table.\"\n",
              "            style=\"display:none;\">\n",
              "\n",
              "  <svg xmlns=\"http://www.w3.org/2000/svg\" height=\"24px\" viewBox=\"0 -960 960 960\">\n",
              "    <path d=\"M120-120v-720h720v720H120Zm60-500h600v-160H180v160Zm220 220h160v-160H400v160Zm0 220h160v-160H400v160ZM180-400h160v-160H180v160Zm440 0h160v-160H620v160ZM180-180h160v-160H180v160Zm440 0h160v-160H620v160Z\"/>\n",
              "  </svg>\n",
              "    </button>\n",
              "\n",
              "  <style>\n",
              "    .colab-df-container {\n",
              "      display:flex;\n",
              "      gap: 12px;\n",
              "    }\n",
              "\n",
              "    .colab-df-convert {\n",
              "      background-color: #E8F0FE;\n",
              "      border: none;\n",
              "      border-radius: 50%;\n",
              "      cursor: pointer;\n",
              "      display: none;\n",
              "      fill: #1967D2;\n",
              "      height: 32px;\n",
              "      padding: 0 0 0 0;\n",
              "      width: 32px;\n",
              "    }\n",
              "\n",
              "    .colab-df-convert:hover {\n",
              "      background-color: #E2EBFA;\n",
              "      box-shadow: 0px 1px 2px rgba(60, 64, 67, 0.3), 0px 1px 3px 1px rgba(60, 64, 67, 0.15);\n",
              "      fill: #174EA6;\n",
              "    }\n",
              "\n",
              "    .colab-df-buttons div {\n",
              "      margin-bottom: 4px;\n",
              "    }\n",
              "\n",
              "    [theme=dark] .colab-df-convert {\n",
              "      background-color: #3B4455;\n",
              "      fill: #D2E3FC;\n",
              "    }\n",
              "\n",
              "    [theme=dark] .colab-df-convert:hover {\n",
              "      background-color: #434B5C;\n",
              "      box-shadow: 0px 1px 3px 1px rgba(0, 0, 0, 0.15);\n",
              "      filter: drop-shadow(0px 1px 2px rgba(0, 0, 0, 0.3));\n",
              "      fill: #FFFFFF;\n",
              "    }\n",
              "  </style>\n",
              "\n",
              "    <script>\n",
              "      const buttonEl =\n",
              "        document.querySelector('#df-c50a412d-9bcf-4d75-88a9-22f99862e1f4 button.colab-df-convert');\n",
              "      buttonEl.style.display =\n",
              "        google.colab.kernel.accessAllowed ? 'block' : 'none';\n",
              "\n",
              "      async function convertToInteractive(key) {\n",
              "        const element = document.querySelector('#df-c50a412d-9bcf-4d75-88a9-22f99862e1f4');\n",
              "        const dataTable =\n",
              "          await google.colab.kernel.invokeFunction('convertToInteractive',\n",
              "                                                    [key], {});\n",
              "        if (!dataTable) return;\n",
              "\n",
              "        const docLinkHtml = 'Like what you see? Visit the ' +\n",
              "          '<a target=\"_blank\" href=https://colab.research.google.com/notebooks/data_table.ipynb>data table notebook</a>'\n",
              "          + ' to learn more about interactive tables.';\n",
              "        element.innerHTML = '';\n",
              "        dataTable['output_type'] = 'display_data';\n",
              "        await google.colab.output.renderOutput(dataTable, element);\n",
              "        const docLink = document.createElement('div');\n",
              "        docLink.innerHTML = docLinkHtml;\n",
              "        element.appendChild(docLink);\n",
              "      }\n",
              "    </script>\n",
              "  </div>\n",
              "\n",
              "\n",
              "<div id=\"df-8dbbe13a-ee42-4c1a-82fb-b380f6093baf\">\n",
              "  <button class=\"colab-df-quickchart\" onclick=\"quickchart('df-8dbbe13a-ee42-4c1a-82fb-b380f6093baf')\"\n",
              "            title=\"Suggest charts\"\n",
              "            style=\"display:none;\">\n",
              "\n",
              "<svg xmlns=\"http://www.w3.org/2000/svg\" height=\"24px\"viewBox=\"0 0 24 24\"\n",
              "     width=\"24px\">\n",
              "    <g>\n",
              "        <path d=\"M19 3H5c-1.1 0-2 .9-2 2v14c0 1.1.9 2 2 2h14c1.1 0 2-.9 2-2V5c0-1.1-.9-2-2-2zM9 17H7v-7h2v7zm4 0h-2V7h2v10zm4 0h-2v-4h2v4z\"/>\n",
              "    </g>\n",
              "</svg>\n",
              "  </button>\n",
              "\n",
              "<style>\n",
              "  .colab-df-quickchart {\n",
              "      --bg-color: #E8F0FE;\n",
              "      --fill-color: #1967D2;\n",
              "      --hover-bg-color: #E2EBFA;\n",
              "      --hover-fill-color: #174EA6;\n",
              "      --disabled-fill-color: #AAA;\n",
              "      --disabled-bg-color: #DDD;\n",
              "  }\n",
              "\n",
              "  [theme=dark] .colab-df-quickchart {\n",
              "      --bg-color: #3B4455;\n",
              "      --fill-color: #D2E3FC;\n",
              "      --hover-bg-color: #434B5C;\n",
              "      --hover-fill-color: #FFFFFF;\n",
              "      --disabled-bg-color: #3B4455;\n",
              "      --disabled-fill-color: #666;\n",
              "  }\n",
              "\n",
              "  .colab-df-quickchart {\n",
              "    background-color: var(--bg-color);\n",
              "    border: none;\n",
              "    border-radius: 50%;\n",
              "    cursor: pointer;\n",
              "    display: none;\n",
              "    fill: var(--fill-color);\n",
              "    height: 32px;\n",
              "    padding: 0;\n",
              "    width: 32px;\n",
              "  }\n",
              "\n",
              "  .colab-df-quickchart:hover {\n",
              "    background-color: var(--hover-bg-color);\n",
              "    box-shadow: 0 1px 2px rgba(60, 64, 67, 0.3), 0 1px 3px 1px rgba(60, 64, 67, 0.15);\n",
              "    fill: var(--button-hover-fill-color);\n",
              "  }\n",
              "\n",
              "  .colab-df-quickchart-complete:disabled,\n",
              "  .colab-df-quickchart-complete:disabled:hover {\n",
              "    background-color: var(--disabled-bg-color);\n",
              "    fill: var(--disabled-fill-color);\n",
              "    box-shadow: none;\n",
              "  }\n",
              "\n",
              "  .colab-df-spinner {\n",
              "    border: 2px solid var(--fill-color);\n",
              "    border-color: transparent;\n",
              "    border-bottom-color: var(--fill-color);\n",
              "    animation:\n",
              "      spin 1s steps(1) infinite;\n",
              "  }\n",
              "\n",
              "  @keyframes spin {\n",
              "    0% {\n",
              "      border-color: transparent;\n",
              "      border-bottom-color: var(--fill-color);\n",
              "      border-left-color: var(--fill-color);\n",
              "    }\n",
              "    20% {\n",
              "      border-color: transparent;\n",
              "      border-left-color: var(--fill-color);\n",
              "      border-top-color: var(--fill-color);\n",
              "    }\n",
              "    30% {\n",
              "      border-color: transparent;\n",
              "      border-left-color: var(--fill-color);\n",
              "      border-top-color: var(--fill-color);\n",
              "      border-right-color: var(--fill-color);\n",
              "    }\n",
              "    40% {\n",
              "      border-color: transparent;\n",
              "      border-right-color: var(--fill-color);\n",
              "      border-top-color: var(--fill-color);\n",
              "    }\n",
              "    60% {\n",
              "      border-color: transparent;\n",
              "      border-right-color: var(--fill-color);\n",
              "    }\n",
              "    80% {\n",
              "      border-color: transparent;\n",
              "      border-right-color: var(--fill-color);\n",
              "      border-bottom-color: var(--fill-color);\n",
              "    }\n",
              "    90% {\n",
              "      border-color: transparent;\n",
              "      border-bottom-color: var(--fill-color);\n",
              "    }\n",
              "  }\n",
              "</style>\n",
              "\n",
              "  <script>\n",
              "    async function quickchart(key) {\n",
              "      const quickchartButtonEl =\n",
              "        document.querySelector('#' + key + ' button');\n",
              "      quickchartButtonEl.disabled = true;  // To prevent multiple clicks.\n",
              "      quickchartButtonEl.classList.add('colab-df-spinner');\n",
              "      try {\n",
              "        const charts = await google.colab.kernel.invokeFunction(\n",
              "            'suggestCharts', [key], {});\n",
              "      } catch (error) {\n",
              "        console.error('Error during call to suggestCharts:', error);\n",
              "      }\n",
              "      quickchartButtonEl.classList.remove('colab-df-spinner');\n",
              "      quickchartButtonEl.classList.add('colab-df-quickchart-complete');\n",
              "    }\n",
              "    (() => {\n",
              "      let quickchartButtonEl =\n",
              "        document.querySelector('#df-8dbbe13a-ee42-4c1a-82fb-b380f6093baf button');\n",
              "      quickchartButtonEl.style.display =\n",
              "        google.colab.kernel.accessAllowed ? 'block' : 'none';\n",
              "    })();\n",
              "  </script>\n",
              "</div>\n",
              "\n",
              "  <div id=\"id_567db694-74ea-4f78-bbe2-b3556017fcf8\">\n",
              "    <style>\n",
              "      .colab-df-generate {\n",
              "        background-color: #E8F0FE;\n",
              "        border: none;\n",
              "        border-radius: 50%;\n",
              "        cursor: pointer;\n",
              "        display: none;\n",
              "        fill: #1967D2;\n",
              "        height: 32px;\n",
              "        padding: 0 0 0 0;\n",
              "        width: 32px;\n",
              "      }\n",
              "\n",
              "      .colab-df-generate:hover {\n",
              "        background-color: #E2EBFA;\n",
              "        box-shadow: 0px 1px 2px rgba(60, 64, 67, 0.3), 0px 1px 3px 1px rgba(60, 64, 67, 0.15);\n",
              "        fill: #174EA6;\n",
              "      }\n",
              "\n",
              "      [theme=dark] .colab-df-generate {\n",
              "        background-color: #3B4455;\n",
              "        fill: #D2E3FC;\n",
              "      }\n",
              "\n",
              "      [theme=dark] .colab-df-generate:hover {\n",
              "        background-color: #434B5C;\n",
              "        box-shadow: 0px 1px 3px 1px rgba(0, 0, 0, 0.15);\n",
              "        filter: drop-shadow(0px 1px 2px rgba(0, 0, 0, 0.3));\n",
              "        fill: #FFFFFF;\n",
              "      }\n",
              "    </style>\n",
              "    <button class=\"colab-df-generate\" onclick=\"generateWithVariable('results')\"\n",
              "            title=\"Generate code using this dataframe.\"\n",
              "            style=\"display:none;\">\n",
              "\n",
              "  <svg xmlns=\"http://www.w3.org/2000/svg\" height=\"24px\"viewBox=\"0 0 24 24\"\n",
              "       width=\"24px\">\n",
              "    <path d=\"M7,19H8.4L18.45,9,17,7.55,7,17.6ZM5,21V16.75L18.45,3.32a2,2,0,0,1,2.83,0l1.4,1.43a1.91,1.91,0,0,1,.58,1.4,1.91,1.91,0,0,1-.58,1.4L9.25,21ZM18.45,9,17,7.55Zm-12,3A5.31,5.31,0,0,0,4.9,8.1,5.31,5.31,0,0,0,1,6.5,5.31,5.31,0,0,0,4.9,4.9,5.31,5.31,0,0,0,6.5,1,5.31,5.31,0,0,0,8.1,4.9,5.31,5.31,0,0,0,12,6.5,5.46,5.46,0,0,0,6.5,12Z\"/>\n",
              "  </svg>\n",
              "    </button>\n",
              "    <script>\n",
              "      (() => {\n",
              "      const buttonEl =\n",
              "        document.querySelector('#id_567db694-74ea-4f78-bbe2-b3556017fcf8 button.colab-df-generate');\n",
              "      buttonEl.style.display =\n",
              "        google.colab.kernel.accessAllowed ? 'block' : 'none';\n",
              "\n",
              "      buttonEl.onclick = () => {\n",
              "        google.colab.notebook.generateWithVariable('results');\n",
              "      }\n",
              "      })();\n",
              "    </script>\n",
              "  </div>\n",
              "\n",
              "    </div>\n",
              "  </div>\n"
            ],
            "application/vnd.google.colaboratory.intrinsic+json": {
              "type": "dataframe",
              "variable_name": "results",
              "summary": "{\n  \"name\": \"results\",\n  \"rows\": 2,\n  \"fields\": [\n    {\n      \"column\": \"Model\",\n      \"properties\": {\n        \"dtype\": \"string\",\n        \"num_unique_values\": 2,\n        \"samples\": [\n          \"IAMB-selected Features\",\n          \"All Features\"\n        ],\n        \"semantic_type\": \"\",\n        \"description\": \"\"\n      }\n    },\n    {\n      \"column\": \"Accuracy\",\n      \"properties\": {\n        \"dtype\": \"number\",\n        \"std\": 0.01836640990094929,\n        \"min\": 0.7445887445887446,\n        \"max\": 0.7705627705627706,\n        \"num_unique_values\": 2,\n        \"samples\": [\n          0.7705627705627706,\n          0.7445887445887446\n        ],\n        \"semantic_type\": \"\",\n        \"description\": \"\"\n      }\n    },\n    {\n      \"column\": \"F1 Score\",\n      \"properties\": {\n        \"dtype\": \"number\",\n        \"std\": 0.016398081487531906,\n        \"min\": 0.7463086857026251,\n        \"max\": 0.7694990749391919,\n        \"num_unique_values\": 2,\n        \"samples\": [\n          0.7694990749391919,\n          0.7463086857026251\n        ],\n        \"semantic_type\": \"\",\n        \"description\": \"\"\n      }\n    },\n    {\n      \"column\": \"AUC-ROC\",\n      \"properties\": {\n        \"dtype\": \"number\",\n        \"std\": 0.026575039624063924,\n        \"min\": 0.7904801324503311,\n        \"max\": 0.8280629139072847,\n        \"num_unique_values\": 2,\n        \"samples\": [\n          0.8280629139072847,\n          0.7904801324503311\n        ],\n        \"semantic_type\": \"\",\n        \"description\": \"\"\n      }\n    }\n  ]\n}"
            }
          },
          "metadata": {}
        }
      ],
      "source": [
        "# Display results\n",
        "results = pd.DataFrame({\n",
        "    'Model': ['All Features', 'IAMB-selected Features'],\n",
        "    'Accuracy': [acc_all, acc_iamb],\n",
        "    'F1 Score': [f1_all, f1_iamb],\n",
        "    'AUC-ROC': [auc_all, auc_iamb]\n",
        "})\n",
        "print(\"\\nModel Performance Comparison:\")\n",
        "display(results)"
      ]
    },
    {
      "cell_type": "markdown",
      "metadata": {
        "id": "BDQdZoFY-yjV"
      },
      "source": [
        "**Key Takeaways**:\n",
        "\n",
        "- **Improved Accuracy**: The IAMB-selected model (0.770563) shows better accuracy than the all-features model (0.744589), indicating more reliable predictions.\n",
        "- **Higher F1 Score**: The increase in F1 score (0.769499 vs. 0.746309) suggests that the IAMB model strikes a better balance between precision and recall.\n",
        "- **Superior AUC-ROC**: A notable improvement in AUC-ROC (0.828063 vs. 0.790480) reflects the IAMB model's enhanced ability to differentiate between positive and negative cases.\n",
        "\n",
        "**Inference**:\n",
        "\n",
        "The **IAMB-selected model** outperforms the **all-features model** across all metrics, demonstrating that feature selection helps create a more focused, accurate, and effective predictive model.\n"
      ]
    },
    {
      "cell_type": "markdown",
      "metadata": {
        "id": "I3CwBOxv-yjV"
      },
      "source": [
        "#### 4\\. Plot the ROC Curve\n",
        "\n",
        "Visualize the model's performance with ROC curves."
      ]
    },
    {
      "cell_type": "code",
      "execution_count": null,
      "metadata": {
        "id": "hpF60K_L-yjV",
        "outputId": "7dd40ebe-e46f-423b-d902-d6f0be0cae28",
        "colab": {
          "base_uri": "https://localhost:8080/",
          "height": 569
        }
      },
      "outputs": [
        {
          "output_type": "display_data",
          "data": {
            "text/plain": [
              "<Figure size 1500x600 with 1 Axes>"
            ],
            "image/png": "[encoded data removed]"
          },
          "metadata": {}
        }
      ],
      "source": [
        "# Plot ROC curves for both models\n",
        "fpr_all, tpr_all, _ = roc_curve(y_test, gnb_all.predict_proba(X_test)[:, 1])\n",
        "fpr_iamb, tpr_iamb, _ = roc_curve(y_test, gnb_iamb.predict_proba(X_test_iamb)[:, 1])\n",
        "\n",
        "plt.figure()\n",
        "plt.plot(fpr_all, tpr_all, label='All Features (AUC = {:.2f})'.format(auc_all))\n",
        "plt.plot(fpr_iamb, tpr_iamb, label='IAMB Features (AUC = {:.2f})'.format(auc_iamb))\n",
        "plt.xlabel('False Positive Rate')\n",
        "plt.ylabel('True Positive Rate')\n",
        "plt.title('ROC Curve Comparison')\n",
        "plt.legend()\n",
        "plt.show()"
      ]
    },
    {
      "cell_type": "markdown",
      "metadata": {
        "id": "tIs3_ZJC-yjV"
      },
      "source": [
        "- The ROC curve visualizes the trade-off between true positive rate and false positive rate, providing an overview of model classification performance.\n",
        "- This step helps understand how the model behaves at different threshold levels and compares the predictive power of models with different feature sets."
      ]
    },
    {
      "cell_type": "markdown",
      "metadata": {
        "id": "qXOPUuma-yjW"
      },
      "source": [
        "## Conclusion\n",
        "\n",
        "The results demonstrate that feature selection using the IAMB algorithm significantly enhances model performance by focusing on the most relevant predictors—**['Glucose', 'DiabetesPedigreeFunction', 'BMI', 'Pregnancies']**. The IAMB-selected model outperforms the all-features model across all key metrics, showing higher **accuracy** (0.770563 vs. 0.744589), **F1 score** (0.769499 vs. 0.746309), and **AUC-ROC** (0.828063 vs. 0.790480). This indicates that the selected subset of features not only improves predictive power but also maintains a better balance between precision and recall. By using only these four features, the model is simpler, more interpretable, and computationally efficient while still achieving superior performance. Overall, this underscores the importance of targeted feature selection to build effective, robust, and interpretable machine learning models."
      ]
    }
  ],
  "metadata": {
    "colab": {
      "provenance": [],
      "include_colab_link": true
    },
    "kernelspec": {
      "display_name": "Python 3",
      "name": "python3"
    },
    "language_info": {
      "codemirror_mode": {
        "name": "ipython",
        "version": 3
      },
      "file_extension": ".py",
      "mimetype": "text/x-python",
      "name": "python",
      "nbconvert_exporter": "python",
      "pygments_lexer": "ipython3",
      "version": "3.12.2"
    }
  },
  "nbformat": 4,
  "nbformat_minor": 0
}